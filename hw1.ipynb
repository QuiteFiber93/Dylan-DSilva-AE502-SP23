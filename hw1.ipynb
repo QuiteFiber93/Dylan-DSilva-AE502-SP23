{
 "cells": [
  {
   "attachments": {},
   "cell_type": "markdown",
   "metadata": {},
   "source": [
    "# Imports"
   ]
  },
  {
   "cell_type": "code",
   "execution_count": 1,
   "metadata": {},
   "outputs": [],
   "source": [
    "import numpy as np, seaborn as sns, matplotlib.pyplot as plt, pandas as pd, sympy as sy, mpmath\n",
    "from scipy import optimize\n",
    "from astropy import units as u"
   ]
  },
  {
   "cell_type": "code",
   "execution_count": 2,
   "metadata": {},
   "outputs": [
    {
     "name": "stdout",
     "output_type": "stream",
     "text": [
      "Mpmath settings:\n",
      "  mp.prec = 103               [default: 53]\n",
      "  mp.dps = 30                 [default: 15]\n",
      "  mp.trap_complex = False     [default: False]\n"
     ]
    }
   ],
   "source": [
    "mpmath.mp.dps = 30\n",
    "print(mpmath.mp)"
   ]
  },
  {
   "attachments": {},
   "cell_type": "markdown",
   "metadata": {},
   "source": [
    "# Question 1"
   ]
  },
  {
   "attachments": {},
   "cell_type": "markdown",
   "metadata": {},
   "source": [
    "Create a Universal Variable Two Body Propogator"
   ]
  },
  {
   "cell_type": "code",
   "execution_count": 3,
   "metadata": {},
   "outputs": [],
   "source": [
    "def C(z):\n",
    "    if z>0:\n",
    "        z = float(z)\n",
    "        return (1-np.cos(np.sqrt(z)))/z\n",
    "    elif z==0:\n",
    "        return 1/2\n",
    "    elif z<0:\n",
    "        z_sym = sy.symbols(\"z_sym\")\n",
    "        f = (sy.cosh(sy.sqrt(-z_sym))-1) / (-z_sym)\n",
    "        return float(f.subs(z_sym, z).evalf())\n",
    "    \n",
    "def S(z):\n",
    "    if z>0:\n",
    "        z = float(z)\n",
    "        return (np.sqrt(z) - np.sin(np.sqrt(z))) / (np.sqrt(z)**3)\n",
    "    elif z==0:\n",
    "        return 1/6\n",
    "    elif z<0:\n",
    "        z_sym = sy.symbols(\"z_sym\")\n",
    "        f = (sy.sinh(sy.sqrt(-z_sym)) - sy.sqrt(-z_sym)) / (sy.sqrt(-z_sym)**3)\n",
    "        f1 = sy.sinh(sy.sqrt(-z_sym))\n",
    "        return float(f.subs(z_sym, z).evalf())"
   ]
  },
  {
   "cell_type": "code",
   "execution_count": 4,
   "metadata": {},
   "outputs": [],
   "source": [
    "def kepler(chi: float, mu: float, r_0_mag: float, v_r_0: float, alpha: float, delta_t: float) -> float:\n",
    "    z = alpha*chi**2\n",
    "    return (r_0_mag * v_r_0)/np.sqrt(mu) * chi**2 * C(z) + (1-alpha*r_0_mag)*chi**3 * S(z) + r_0_mag * chi - np.sqrt(mu)*delta_t\n",
    "\n",
    "def kepler_prime(chi: float, mu: float, r_0_mag: float, v_r_0: float, alpha: float) -> float:\n",
    "    z = alpha*chi**2\n",
    "    return (r_0_mag * v_r_0)/np.sqrt(mu) * chi * ( 1 - alpha*chi**2 * S(z) ) + (1 - alpha*r_0_mag)*chi**2*C(z) + r_0_mag\n",
    "\n",
    "def solve_kepler(mu: float, r_0_mag: float, v_r_0: float, alpha: float, delta_t: float, chi_0: float = None, tol = 1e-8, max_iter = 100):\n",
    "\n",
    "    # if not provided, creating an initial guess for chi\n",
    "    if not chi_0:\n",
    "        chi_0 = np.sqrt(mu)*np.abs(alpha)*(delta_t)\n",
    "    # creating f / fprime\n",
    "    ratio_i =  kepler(chi_0, mu, r_0_mag, v_r_0, alpha, delta_t) / kepler_prime(chi_0, mu, r_0_mag, v_r_0, alpha)\n",
    "    \n",
    "    # starting iterations for newtons method\n",
    "    chi_i = chi_0\n",
    "    iter = 0\n",
    "    while np.abs(ratio_i) > tol and iter <= max_iter:\n",
    "        chi_i -= ratio_i\n",
    "        ratio_i =  kepler(chi_i, mu, r_0_mag, v_r_0, alpha, delta_t) / kepler_prime(chi_i, mu, r_0_mag, v_r_0, alpha)\n",
    "        iter += 1\n",
    "    \n",
    "    return chi_i"
   ]
  },
  {
   "cell_type": "code",
   "execution_count": 5,
   "metadata": {},
   "outputs": [],
   "source": [
    "# deriving state vector for a given delta t\n",
    "def propogate_orbit(r_0, v_0, delta_t, mu):\n",
    "\n",
    "    # f and g functions\n",
    "    def f(chi: float, alpha: float, r_0_mag: float): return 1 - (chi**2 / r_0_mag) * C(alpha*chi**2)\n",
    "\n",
    "    def g(chi: float, alpha: float, delta_t: float, mu: float): return delta_t - 1/np.sqrt(mu) * chi**3 * S(alpha*chi**2)\n",
    "\n",
    "    def f_dot(mu: float, r_0_mag: float, r_mag: float, alpha: float, chi: float):\n",
    "        return np.sqrt(mu)/(r_mag*r_0_mag)*( alpha*chi**3 * S(alpha*chi**2) - chi)\n",
    "\n",
    "    def g_dot(chi: float, alpha: float, r_mag: float):\n",
    "        return 1 - chi**2 / r_mag * C(alpha*chi**2)\n",
    "    \n",
    "    r_0_mag = np.linalg.norm(r_0)\n",
    "    v_0_mag = np.linalg.norm(v_0)\n",
    "\n",
    "    v_r_0 = np.dot(r_0, v_0) / r_0_mag\n",
    "\n",
    "    alpha = 2/r_0_mag - v_0_mag**2 / mu\n",
    "\n",
    "    chi = solve_kepler(mu = mu, r_0_mag = r_0_mag, v_r_0 = v_r_0, alpha = alpha, delta_t = delta_t)\n",
    "    r = f(chi = chi, alpha = alpha, r_0_mag = r_0_mag)*r_0 + g(chi = chi, alpha = alpha, delta_t = delta_t, mu = mu)*v_0\n",
    "    r_mag = np.linalg.norm(r)\n",
    "\n",
    "    v = f_dot(mu = mu, r_0_mag = r_0_mag, r_mag = r_mag, alpha = alpha, chi = chi)*r_0 + g_dot(chi = chi, alpha = alpha, r_mag = r_mag)*v_0\n",
    "\n",
    "    return r, v\n"
   ]
  },
  {
   "attachments": {},
   "cell_type": "markdown",
   "metadata": {},
   "source": [
    "# Question 2"
   ]
  },
  {
   "cell_type": "code",
   "execution_count": 6,
   "metadata": {},
   "outputs": [],
   "source": [
    "def lambert_solver(r_1, r_2, delta_t, mu, z_0 = 0.0, prograde = True, tol = 1e-8, max_iter = 100):\n",
    "     r_1_mag = np.linalg.norm(r_1)\n",
    "     r_2_mag = np.linalg.norm(r_2)\n",
    "\n",
    "     # calculating angle between \n",
    "     delta_theta = np.arccos(np.dot(r_1, r_2)/(r_1_mag*r_2_mag))\n",
    "     r_1_cross_r_2 = np.cross(r_1, r_2)\n",
    "  \n",
    "     # determining delta_theta based on orbit direction\n",
    "     if prograde and (r_1_cross_r_2[-1]) < 0.0:\n",
    "          delta_theta =  2*np.pi - delta_theta\n",
    "\n",
    "     if not prograde and (r_1_cross_r_2[-1] >= 0.0):\n",
    "               delta_theta = 2*np.pi - delta_theta\n",
    "  \n",
    "     # Calculating A\n",
    "     A = np.sin(delta_theta) * np.sqrt( (r_1_mag*r_2_mag)/(1 - np.cos(delta_theta)) )\n",
    "   \n",
    "     # Definign y function\n",
    "     def y(z):\n",
    "          return r_1_mag + r_2_mag + A*(z*S(z) - 1)/(np.sqrt(C(z)))\n",
    "\n",
    "     # defining F and F prime\n",
    "     def F(z): return ( y(z) / C(z) )**(3/2) * (S(z)) + (A*np.sqrt(y(z))) - (np.sqrt(mu)*delta_t)\n",
    " \n",
    "     def F_prime(z):\n",
    "          if z == 0:\n",
    "               y_0 = y(0)\n",
    "               return np.sqrt(2)/40 * y_0**(3/2) + A/8*( np.sqrt(y_0) + A*np.sqrt( 1/(2*y_0) ) )\n",
    "          else:\n",
    "               y_z = y(z)\n",
    "               C_z = C(z)\n",
    "               S_z = S(z)\n",
    "               return (y_z/C_z)**(3/2) * ( 1/(2*z)*(C_z - (3*S_z)/(2*C_z))  + (3 * S_z**2)/(4 * C_z) ) + (A/8 * ( 3*S_z/C_z*np.sqrt(y_z) + A*np.sqrt(C_z/y_z) ))\n",
    "\n",
    "     # starting newton's method to find z\n",
    "     z_i = z_0\n",
    "     \n",
    "     F_over_Fprime = F(z_i)/F_prime(z_i)\n",
    "\n",
    "     iter = 0\n",
    "     while np.abs(F_over_Fprime) > tol and iter <= max_iter:\n",
    "     \n",
    "          z_i = z_i - F_over_Fprime\n",
    "          F_over_Fprime = F(z_i)/F_prime(z_i)\n",
    "          iter += 1\n",
    "\n",
    "     y_z = y(z_i)\n",
    "     C_z = C(z_i)\n",
    "     S_z = S(z_i)\n",
    "\n",
    "     def f(z): return 1 - y_z/r_1_mag\n",
    "     def g(z): return A*np.sqrt(y_z/mu)\n",
    "     def f_dot(z): return np.sqrt(mu)/(r_1_mag*r_2_mag) * np.sqrt(y_z/C_z)*(z_i*S_z - 1)\n",
    "     def g_dot(z): return 1 - y_z/r_2_mag\n",
    "\n",
    "     v_1 = 1/g(z_i) * (r_2 - f(z_i)*r_1)\n",
    "     v_2 = 1/g(z_i) * (g_dot(z_i)*r_2 - r_1)\n",
    "     \n",
    "     return v_1, v_2"
   ]
  },
  {
   "cell_type": "code",
   "execution_count": 7,
   "metadata": {},
   "outputs": [
    {
     "data": {
      "text/plain": [
       "(array([-4.88638468,  6.0225738 ,  3.04794707]),\n",
       " array([-6.91678659,  1.25491188, -1.39876795]))"
      ]
     },
     "execution_count": 7,
     "metadata": {},
     "output_type": "execute_result"
    }
   ],
   "source": [
    "lambert_solver(\n",
    "                r_1 = np.array([5644, 2830, 4170]), \n",
    "                r_2 = np.array([-2240, 7320, 4980]), \n",
    "                delta_t = 1200,\n",
    "                z_0 = 0.0, \n",
    "                mu = 3.986004418e5,\n",
    "                tol = 1e-8,\n",
    "                prograde = True,\n",
    "                max_iter =  4\n",
    "                )"
   ]
  },
  {
   "attachments": {},
   "cell_type": "markdown",
   "metadata": {},
   "source": [
    "# Question 3"
   ]
  },
  {
   "attachments": {},
   "cell_type": "markdown",
   "metadata": {},
   "source": [
    "## Maximum Velocity Values"
   ]
  },
  {
   "cell_type": "code",
   "execution_count": 8,
   "metadata": {},
   "outputs": [],
   "source": [
    "max_delta_v_rendezvous =  50 # km/s\n",
    "max_delta_v_flyby = 20 # km/s   "
   ]
  },
  {
   "attachments": {},
   "cell_type": "markdown",
   "metadata": {},
   "source": [
    "## Generating dates"
   ]
  },
  {
   "cell_type": "code",
   "execution_count": 9,
   "metadata": {},
   "outputs": [],
   "source": [
    "first_launch_date = pd.Timestamp( year = 2017, month = 1, day = 1, hour = 0, minute = 0, second = 0 ).to_julian_date()\n",
    "final_launch_date = pd.Timestamp( year = 2017, month = 12, day = 31, hour = 0, minute = 0, second = 0 ).to_julian_date()\n",
    "launch_window = np.arange(start = first_launch_date, stop = final_launch_date + 1, step = 1)\n",
    "\n",
    "first_arrival_date = pd.Timestamp( year = 2017, month = 8, day = 1, hour = 0, minute = 0, second = 0 ).to_julian_date()\n",
    "final_arrival_date = pd.Timestamp( year = 2019, month = 1, day = 31, hour = 0, minute = 0, second = 0 ).to_julian_date()\n",
    "arrival_window = np.arange(start = first_arrival_date, stop = final_arrival_date + 1, step = 1)\n",
    "\n",
    "launch_ax, arrival_ax = np.meshgrid(launch_window, arrival_window)"
   ]
  },
  {
   "attachments": {},
   "cell_type": "markdown",
   "metadata": {},
   "source": [
    "## Given state vectors at JD = 2457754.5"
   ]
  },
  {
   "cell_type": "code",
   "execution_count": 10,
   "metadata": {},
   "outputs": [],
   "source": [
    "r1I = np.array([3.515868886595499e-2, -3.162046390773074, 4.493983111703389])\n",
    "r1I = (r1I*u.AU).to(u.km).value\n",
    "v1I = np.array([-2.317577766980901e-3, 9.843360903693031e-3, -1.541856855538041e-2])\n",
    "v1I = (v1I*u.AU/u.day).to(u.km/u.s).value\n",
    "\n",
    "r2I = np.array([7.249472033259724, 14.61063037906177, 14.24274452216359])\n",
    "r2I = (r2I*u.AU).to(u.km).value\n",
    "v2I = np.array([-8.241709369476881e-3, -1.156219024581502e-2, -1.317135977481448e-2])\n",
    "v2I = (v2I*u.AU/u.day).to(u.km/u.s).value\n",
    "\n",
    "\n",
    "rE = np.array([1.796136509111975e-1, 9.667949206859814e-1, -3.668681017942158e-5])\n",
    "rE = (rE*u.AU).to(u.km).value\n",
    "vE = np.array([-1.720038360888334e-2, -3.211186197806460e-3, 7.927736735960840e-7])\n",
    "vE = (vE*u.AU/u.day).to(u.km/u.s).value"
   ]
  },
  {
   "attachments": {},
   "cell_type": "markdown",
   "metadata": {},
   "source": [
    "## Earth Trajectory on Launch Window"
   ]
  },
  {
   "cell_type": "code",
   "execution_count": 11,
   "metadata": {},
   "outputs": [],
   "source": [
    "r_E, v_E = [], []\n",
    "\n",
    "for delta_t in launch_window-first_launch_date:\n",
    "    r, v = propogate_orbit(\n",
    "    rE, vE, delta_t*24*3600, 1.327e11\n",
    "    )\n",
    "    r_E.append(r)\n",
    "    v_E.append(v)"
   ]
  },
  {
   "attachments": {},
   "cell_type": "markdown",
   "metadata": {},
   "source": [
    "## 1I/’Oumouamoua Trajectory on Arrival Window"
   ]
  },
  {
   "cell_type": "code",
   "execution_count": 12,
   "metadata": {},
   "outputs": [],
   "source": [
    "r_1I, v_1I = [], []\n",
    "\n",
    "for delta_t in arrival_window-first_launch_date:\n",
    "    r, v = propogate_orbit(\n",
    "    r1I, v1I, delta_t*24*3600, 1.327e11\n",
    "    )\n",
    "    r_1I.append(r)\n",
    "    v_1I.append(v)"
   ]
  },
  {
   "attachments": {},
   "cell_type": "markdown",
   "metadata": {},
   "source": [
    "## Creating Porkchop Plots"
   ]
  },
  {
   "cell_type": "code",
   "execution_count": 15,
   "metadata": {},
   "outputs": [],
   "source": [
    "delta_v_data_I1_flyby = np.empty((len(launch_window), len(arrival_window)))\n",
    "delta_v_data_I1_rv = np.empty((len(launch_window), len(arrival_window)))"
   ]
  },
  {
   "cell_type": "code",
   "execution_count": 18,
   "metadata": {},
   "outputs": [
    {
     "name": "stdout",
     "output_type": "stream",
     "text": [
      "0\n",
      "Error Counter: 1\n"
     ]
    },
    {
     "name": "stderr",
     "output_type": "stream",
     "text": [
      "C:\\Users\\djd14\\AppData\\Local\\Temp/ipykernel_4480/1396648881.py:21: RuntimeWarning: invalid value encountered in double_scalars\n",
      "  return r_1_mag + r_2_mag + A*(z*S(z) - 1)/(np.sqrt(C(z)))\n",
      "C:\\Users\\djd14\\AppData\\Local\\Temp/ipykernel_4480/1396648881.py:24: RuntimeWarning: invalid value encountered in double_scalars\n",
      "  def F(z): return ( y(z) / C(z) )**(3/2) * (S(z)) + (A*np.sqrt(y(z))) - (np.sqrt(mu)*delta_t)\n",
      "C:\\Users\\djd14\\AppData\\Local\\Temp/ipykernel_4480/1396648881.py:24: RuntimeWarning: invalid value encountered in sqrt\n",
      "  def F(z): return ( y(z) / C(z) )**(3/2) * (S(z)) + (A*np.sqrt(y(z))) - (np.sqrt(mu)*delta_t)\n",
      "C:\\Users\\djd14\\AppData\\Local\\Temp/ipykernel_4480/1396648881.py:34: RuntimeWarning: invalid value encountered in double_scalars\n",
      "  return (y_z/C_z)**(3/2) * ( 1/(2*z)*(C_z - (3*S_z)/(2*C_z))  + (3 * S_z**2)/(4 * C_z) ) + (A/8 * ( 3*S_z/C_z*np.sqrt(y_z) + A*np.sqrt(C_z/y_z) ))\n",
      "C:\\Users\\djd14\\AppData\\Local\\Temp/ipykernel_4480/1396648881.py:34: RuntimeWarning: invalid value encountered in sqrt\n",
      "  return (y_z/C_z)**(3/2) * ( 1/(2*z)*(C_z - (3*S_z)/(2*C_z))  + (3 * S_z**2)/(4 * C_z) ) + (A/8 * ( 3*S_z/C_z*np.sqrt(y_z) + A*np.sqrt(C_z/y_z) ))\n",
      "C:\\Users\\djd14\\AppData\\Local\\Temp/ipykernel_4480/1396648881.py:53: RuntimeWarning: invalid value encountered in sqrt\n",
      "  def g(z): return A*np.sqrt(y_z/mu)\n"
     ]
    },
    {
     "name": "stdout",
     "output_type": "stream",
     "text": [
      "Error Counter: 2\n",
      "Error Counter: 3\n"
     ]
    },
    {
     "name": "stderr",
     "output_type": "stream",
     "text": [
      "C:\\Users\\djd14\\AppData\\Local\\Temp/ipykernel_4480/1396648881.py:21: RuntimeWarning: overflow encountered in double_scalars\n",
      "  return r_1_mag + r_2_mag + A*(z*S(z) - 1)/(np.sqrt(C(z)))\n",
      "C:\\Users\\djd14\\AppData\\Local\\Temp/ipykernel_4480/1396648881.py:45: RuntimeWarning: divide by zero encountered in double_scalars\n",
      "  F_over_Fprime = F(z_i)/F_prime(z_i)\n",
      "C:\\Users\\djd14\\AppData\\Local\\Temp/ipykernel_4480/3799470352.py:15: RuntimeWarning: invalid value encountered in sin\n",
      "  return (np.sqrt(z) - np.sin(np.sqrt(z))) / (np.sqrt(z)**3)\n",
      "C:\\Users\\djd14\\AppData\\Local\\Temp/ipykernel_4480/3799470352.py:4: RuntimeWarning: invalid value encountered in cos\n",
      "  return (1-np.cos(np.sqrt(z)))/z\n"
     ]
    },
    {
     "name": "stdout",
     "output_type": "stream",
     "text": [
      "1\n",
      "Error Counter: 4\n",
      "2\n",
      "Error Counter: 5\n",
      "3\n",
      "4\n",
      "Error Counter: 6\n",
      "Error Counter: 7\n",
      "Error Counter: 8\n",
      "5\n",
      "6\n",
      "Error Counter: 9\n",
      "7\n",
      "Error Counter: 10\n",
      "Error Counter: 11\n",
      "8\n",
      "Error Counter: 12\n",
      "9\n",
      "Error Counter: 13\n",
      "Error Counter: 14\n",
      "10\n",
      "Error Counter: 15\n",
      "Error Counter: 16\n",
      "Error Counter: 17\n",
      "11\n",
      "Error Counter: 18\n",
      "12\n",
      "Error Counter: 19\n",
      "13\n",
      "Error Counter: 20\n",
      "14\n",
      "15\n",
      "Error Counter: 21\n",
      "Error Counter: 22\n",
      "16\n",
      "17\n",
      "18\n",
      "Error Counter: 23\n",
      "Error Counter: 24\n",
      "19\n",
      "20\n",
      "21\n",
      "Error Counter: 25\n",
      "Error Counter: 26\n",
      "Error Counter: 27\n",
      "22\n",
      "Error Counter: 28\n",
      "Error Counter: 29\n",
      "Error Counter: 30\n",
      "Error Counter: 31\n",
      "23\n",
      "Error Counter: 32\n",
      "24\n",
      "Error Counter: 33\n",
      "Error Counter: 34\n",
      "Error Counter: 35\n",
      "Error Counter: 36\n",
      "25\n",
      "Error Counter: 37\n",
      "Error Counter: 38\n",
      "26\n",
      "Error Counter: 39\n",
      "27\n",
      "Error Counter: 40\n",
      "Error Counter: 41\n",
      "28\n",
      "Error Counter: 42\n",
      "Error Counter: 43\n",
      "29\n",
      "Error Counter: 44\n",
      "Error Counter: 45\n",
      "30\n",
      "Error Counter: 46\n",
      "Error Counter: 47\n",
      "Error Counter: 48\n",
      "31\n",
      "Error Counter: 49\n",
      "32\n",
      "33\n",
      "34\n",
      "Error Counter: 50\n",
      "35\n",
      "36\n",
      "Error Counter: 51\n",
      "Error Counter: 52\n",
      "37\n",
      "38\n",
      "Error Counter: 53\n",
      "39\n",
      "Error Counter: 54\n",
      "Error Counter: 55\n",
      "Error Counter: 56\n",
      "Error Counter: 57\n",
      "40\n",
      "41\n",
      "Error Counter: 58\n",
      "42\n",
      "43\n",
      "44\n",
      "Error Counter: 59\n",
      "45\n",
      "Error Counter: 60\n",
      "Error Counter: 61\n",
      "46\n",
      "Error Counter: 62\n",
      "Error Counter: 63\n",
      "47\n",
      "48\n",
      "49\n",
      "Error Counter: 64\n",
      "50\n",
      "51\n",
      "Error Counter: 65\n",
      "Error Counter: 66\n",
      "Error Counter: 67\n",
      "52\n",
      "53\n",
      "Error Counter: 68\n",
      "54\n",
      "Error Counter: 69\n",
      "55\n",
      "56\n",
      "Error Counter: 70\n",
      "57\n",
      "Error Counter: 71\n",
      "Error Counter: 72\n",
      "Error Counter: 73\n",
      "Error Counter: 74\n",
      "58\n",
      "Error Counter: 75\n",
      "59\n",
      "Error Counter: 76\n",
      "Error Counter: 77\n",
      "60\n",
      "61\n",
      "62\n",
      "63\n",
      "Error Counter: 78\n",
      "64\n",
      "Error Counter: 79\n",
      "65\n",
      "66\n",
      "67\n",
      "Error Counter: 80\n",
      "68\n",
      "Error Counter: 81\n",
      "69\n",
      "70\n",
      "Error Counter: 82\n",
      "71\n",
      "72\n",
      "73\n",
      "74\n",
      "75\n",
      "Error Counter: 83\n",
      "Error Counter: 84\n",
      "76\n",
      "77\n",
      "Error Counter: 85\n",
      "Error Counter: 86\n",
      "78\n",
      "Error Counter: 87\n",
      "Error Counter: 88\n",
      "79\n",
      "80\n",
      "Error Counter: 89\n"
     ]
    }
   ],
   "source": [
    "error_count = 0\n",
    "for i in range(len(launch_window)):\n",
    "    print(i)\n",
    "    earth_pos = r_E[i]\n",
    "    earth_vel = v_E[i]\n",
    "    for j in range(len(arrival_window)):\n",
    "        I_pos = r_1I[j]\n",
    "        I_vel = v_1I[j]\n",
    "\n",
    "        delta_v = None\n",
    "        if arrival_window[j] <= launch_window[i]:\n",
    "            delta_v_data_I1_flyby[j][i] = delta_v\n",
    "            delta_v_data_I1_rv[j][i] = delta_v\n",
    "            continue\n",
    "        else:\n",
    "            delta_t = arrival_window[j] - launch_window[i]\n",
    "            try:\n",
    "                v_E_prograde, v_I_prograde = lambert_solver(earth_pos, I_pos, delta_t*24*3600, 1.327e11, prograde = True)\n",
    "                v_E_retrograde, v_I_retrograde = lambert_solver(earth_pos, I_pos, delta_t*24*3600, 1.327e11, prograde = False)\n",
    "            except: \n",
    "                error_count += 1\n",
    "                print(f\"Error Counter: {error_count}\")\n",
    "            delta_v_prograde = np.linalg.norm(v_E_prograde - earth_vel) + np.linalg.norm(v_I_prograde - I_vel)\n",
    "            delta_v_retrograde = np.linalg.norm(v_E_retrograde - earth_vel) + np.linalg.norm(v_I_retrograde - I_vel)\n",
    "            \n",
    "            if abs(delta_v_prograde) < abs(delta_v_retrograde):\n",
    "                delta_v = delta_v_prograde\n",
    "            else:\n",
    "                delta_v = delta_v_retrograde\n",
    "            if delta_v < max_delta_v_flyby:\n",
    "                delta_v_data_I1_flyby[j][i] = delta_v\n",
    "            else: \n",
    "                delta_v_data_I1_flyby[j][i] = None\n",
    "                \n",
    "            if delta_v < max_delta_v_rendezvous:\n",
    "                delta_v_data_I1_rv[j][i] = delta_v\n",
    "            else: \n",
    "                delta_v_data_I1_rv[j][i] = None"
   ]
  },
  {
   "cell_type": "code",
   "execution_count": 21,
   "metadata": {},
   "outputs": [],
   "source": [
    "df = pd.DataFrame(delta_v_data_I1_rv, columns = pd.to_datetime(arrival_window, unit = \"D\", origin = \"julian\"), index = pd.to_datetime(launch_window, unit = \"D\", origin = \"julian\"))"
   ]
  },
  {
   "cell_type": "code",
   "execution_count": 22,
   "metadata": {},
   "outputs": [
    {
     "data": {
      "text/plain": [
       "(365, (365, 549))"
      ]
     },
     "execution_count": 22,
     "metadata": {},
     "output_type": "execute_result"
    }
   ],
   "source": [
    "len(launch_window), np.shape(delta_v_data_I1_rv)"
   ]
  },
  {
   "cell_type": "code",
   "execution_count": 31,
   "metadata": {},
   "outputs": [
    {
     "ename": "TypeError",
     "evalue": "FigureBase.colorbar() missing 1 required positional argument: 'mappable'",
     "output_type": "error",
     "traceback": [
      "\u001b[1;31m---------------------------------------------------------------------------\u001b[0m",
      "\u001b[1;31mTypeError\u001b[0m                                 Traceback (most recent call last)",
      "\u001b[1;32m~\\AppData\\Local\\Temp/ipykernel_31660/1513008936.py\u001b[0m in \u001b[0;36m<module>\u001b[1;34m\u001b[0m\n\u001b[0;32m      1\u001b[0m \u001b[0mfig\u001b[0m \u001b[1;33m=\u001b[0m \u001b[0mplt\u001b[0m\u001b[1;33m.\u001b[0m\u001b[0mfigure\u001b[0m\u001b[1;33m(\u001b[0m\u001b[0mfigsize\u001b[0m \u001b[1;33m=\u001b[0m \u001b[1;33m(\u001b[0m\u001b[1;36m10\u001b[0m\u001b[1;33m,\u001b[0m \u001b[1;36m10\u001b[0m\u001b[1;33m)\u001b[0m\u001b[1;33m)\u001b[0m\u001b[1;33m\u001b[0m\u001b[1;33m\u001b[0m\u001b[0m\n\u001b[0;32m      2\u001b[0m \u001b[0max\u001b[0m \u001b[1;33m=\u001b[0m \u001b[0msns\u001b[0m\u001b[1;33m.\u001b[0m\u001b[0mheatmap\u001b[0m\u001b[1;33m(\u001b[0m\u001b[0mdf\u001b[0m\u001b[1;33m)\u001b[0m\u001b[1;33m\u001b[0m\u001b[1;33m\u001b[0m\u001b[0m\n\u001b[1;32m----> 3\u001b[1;33m \u001b[0mfig\u001b[0m\u001b[1;33m.\u001b[0m\u001b[0mcolorbar\u001b[0m\u001b[1;33m(\u001b[0m\u001b[0mlabel\u001b[0m \u001b[1;33m=\u001b[0m \u001b[1;34m\"Delta V\"\u001b[0m\u001b[1;33m)\u001b[0m\u001b[1;33m\u001b[0m\u001b[1;33m\u001b[0m\u001b[0m\n\u001b[0m",
      "\u001b[1;31mTypeError\u001b[0m: FigureBase.colorbar() missing 1 required positional argument: 'mappable'"
     ]
    },
    {
     "data": {
      "image/png": "[encoded data removed]",
      "text/plain": [
       "<Figure size 720x720 with 2 Axes>"
      ]
     },
     "metadata": {
      "needs_background": "light"
     },
     "output_type": "display_data"
    }
   ],
   "source": [
    "fig = plt.figure(figsize = (10, 10))\n",
    "ax = sns.heatmap(df)\n",
    "fig.colorbar(label = \"Delta V\")"
   ]
  },
  {
   "cell_type": "code",
   "execution_count": 27,
   "metadata": {},
   "outputs": [
    {
     "ename": "ValueError",
     "evalue": "x and y must be the same size",
     "output_type": "error",
     "traceback": [
      "\u001b[1;31m---------------------------------------------------------------------------\u001b[0m",
      "\u001b[1;31mValueError\u001b[0m                                Traceback (most recent call last)",
      "\u001b[1;32m~\\AppData\\Local\\Temp/ipykernel_31660/279112188.py\u001b[0m in \u001b[0;36m<module>\u001b[1;34m\u001b[0m\n\u001b[0;32m      1\u001b[0m \u001b[0mplt\u001b[0m\u001b[1;33m.\u001b[0m\u001b[0mfigure\u001b[0m\u001b[1;33m(\u001b[0m\u001b[0mfigsize\u001b[0m \u001b[1;33m=\u001b[0m \u001b[1;33m(\u001b[0m\u001b[1;36m10\u001b[0m\u001b[1;33m,\u001b[0m \u001b[1;36m10\u001b[0m\u001b[1;33m)\u001b[0m\u001b[1;33m)\u001b[0m\u001b[1;33m\u001b[0m\u001b[1;33m\u001b[0m\u001b[0m\n\u001b[0;32m      2\u001b[0m \u001b[1;33m\u001b[0m\u001b[0m\n\u001b[1;32m----> 3\u001b[1;33m \u001b[0mplt\u001b[0m\u001b[1;33m.\u001b[0m\u001b[0mscatter\u001b[0m\u001b[1;33m(\u001b[0m\u001b[0mlaunch_window\u001b[0m\u001b[1;33m,\u001b[0m \u001b[0marrival_window\u001b[0m\u001b[1;33m,\u001b[0m \u001b[0mc\u001b[0m \u001b[1;33m=\u001b[0m \u001b[0mdelta_v_data_I1_flyby\u001b[0m\u001b[1;33m)\u001b[0m\u001b[1;33m\u001b[0m\u001b[1;33m\u001b[0m\u001b[0m\n\u001b[0m\u001b[0;32m      4\u001b[0m \u001b[0mplt\u001b[0m\u001b[1;33m.\u001b[0m\u001b[0mcolorbar\u001b[0m\u001b[1;33m(\u001b[0m\u001b[0mlabel\u001b[0m \u001b[1;33m=\u001b[0m \u001b[1;34mf\"$\\Delta$V\"\u001b[0m\u001b[1;33m)\u001b[0m\u001b[1;33m\u001b[0m\u001b[1;33m\u001b[0m\u001b[0m\n\u001b[0;32m      5\u001b[0m \u001b[0mplt\u001b[0m\u001b[1;33m.\u001b[0m\u001b[0mxlabel\u001b[0m\u001b[1;33m(\u001b[0m\u001b[1;34m\"Launch Date\"\u001b[0m\u001b[1;33m)\u001b[0m\u001b[1;33m,\u001b[0m \u001b[0mplt\u001b[0m\u001b[1;33m.\u001b[0m\u001b[0mylabel\u001b[0m\u001b[1;33m(\u001b[0m\u001b[1;34m\"Arrival Date\"\u001b[0m\u001b[1;33m)\u001b[0m\u001b[1;33m,\u001b[0m \u001b[0mplt\u001b[0m\u001b[1;33m.\u001b[0m\u001b[0mtitle\u001b[0m\u001b[1;33m(\u001b[0m\u001b[1;34m\"Oumouamoua Rendezvous\"\u001b[0m\u001b[1;33m)\u001b[0m\u001b[1;33m\u001b[0m\u001b[1;33m\u001b[0m\u001b[0m\n",
      "\u001b[1;32mc:\\Users\\djd14\\AppData\\Local\\Programs\\Python\\Python310\\lib\\site-packages\\matplotlib\\pyplot.py\u001b[0m in \u001b[0;36mscatter\u001b[1;34m(x, y, s, c, marker, cmap, norm, vmin, vmax, alpha, linewidths, edgecolors, plotnonfinite, data, **kwargs)\u001b[0m\n\u001b[0;32m   2805\u001b[0m         \u001b[0mvmin\u001b[0m\u001b[1;33m=\u001b[0m\u001b[1;32mNone\u001b[0m\u001b[1;33m,\u001b[0m \u001b[0mvmax\u001b[0m\u001b[1;33m=\u001b[0m\u001b[1;32mNone\u001b[0m\u001b[1;33m,\u001b[0m \u001b[0malpha\u001b[0m\u001b[1;33m=\u001b[0m\u001b[1;32mNone\u001b[0m\u001b[1;33m,\u001b[0m \u001b[0mlinewidths\u001b[0m\u001b[1;33m=\u001b[0m\u001b[1;32mNone\u001b[0m\u001b[1;33m,\u001b[0m \u001b[1;33m*\u001b[0m\u001b[1;33m,\u001b[0m\u001b[1;33m\u001b[0m\u001b[1;33m\u001b[0m\u001b[0m\n\u001b[0;32m   2806\u001b[0m         edgecolors=None, plotnonfinite=False, data=None, **kwargs):\n\u001b[1;32m-> 2807\u001b[1;33m     __ret = gca().scatter(\n\u001b[0m\u001b[0;32m   2808\u001b[0m         \u001b[0mx\u001b[0m\u001b[1;33m,\u001b[0m \u001b[0my\u001b[0m\u001b[1;33m,\u001b[0m \u001b[0ms\u001b[0m\u001b[1;33m=\u001b[0m\u001b[0ms\u001b[0m\u001b[1;33m,\u001b[0m \u001b[0mc\u001b[0m\u001b[1;33m=\u001b[0m\u001b[0mc\u001b[0m\u001b[1;33m,\u001b[0m \u001b[0mmarker\u001b[0m\u001b[1;33m=\u001b[0m\u001b[0mmarker\u001b[0m\u001b[1;33m,\u001b[0m \u001b[0mcmap\u001b[0m\u001b[1;33m=\u001b[0m\u001b[0mcmap\u001b[0m\u001b[1;33m,\u001b[0m \u001b[0mnorm\u001b[0m\u001b[1;33m=\u001b[0m\u001b[0mnorm\u001b[0m\u001b[1;33m,\u001b[0m\u001b[1;33m\u001b[0m\u001b[1;33m\u001b[0m\u001b[0m\n\u001b[0;32m   2809\u001b[0m         \u001b[0mvmin\u001b[0m\u001b[1;33m=\u001b[0m\u001b[0mvmin\u001b[0m\u001b[1;33m,\u001b[0m \u001b[0mvmax\u001b[0m\u001b[1;33m=\u001b[0m\u001b[0mvmax\u001b[0m\u001b[1;33m,\u001b[0m \u001b[0malpha\u001b[0m\u001b[1;33m=\u001b[0m\u001b[0malpha\u001b[0m\u001b[1;33m,\u001b[0m \u001b[0mlinewidths\u001b[0m\u001b[1;33m=\u001b[0m\u001b[0mlinewidths\u001b[0m\u001b[1;33m,\u001b[0m\u001b[1;33m\u001b[0m\u001b[1;33m\u001b[0m\u001b[0m\n",
      "\u001b[1;32mc:\\Users\\djd14\\AppData\\Local\\Programs\\Python\\Python310\\lib\\site-packages\\matplotlib\\__init__.py\u001b[0m in \u001b[0;36minner\u001b[1;34m(ax, data, *args, **kwargs)\u001b[0m\n\u001b[0;32m   1410\u001b[0m     \u001b[1;32mdef\u001b[0m \u001b[0minner\u001b[0m\u001b[1;33m(\u001b[0m\u001b[0max\u001b[0m\u001b[1;33m,\u001b[0m \u001b[1;33m*\u001b[0m\u001b[0margs\u001b[0m\u001b[1;33m,\u001b[0m \u001b[0mdata\u001b[0m\u001b[1;33m=\u001b[0m\u001b[1;32mNone\u001b[0m\u001b[1;33m,\u001b[0m \u001b[1;33m**\u001b[0m\u001b[0mkwargs\u001b[0m\u001b[1;33m)\u001b[0m\u001b[1;33m:\u001b[0m\u001b[1;33m\u001b[0m\u001b[1;33m\u001b[0m\u001b[0m\n\u001b[0;32m   1411\u001b[0m         \u001b[1;32mif\u001b[0m \u001b[0mdata\u001b[0m \u001b[1;32mis\u001b[0m \u001b[1;32mNone\u001b[0m\u001b[1;33m:\u001b[0m\u001b[1;33m\u001b[0m\u001b[1;33m\u001b[0m\u001b[0m\n\u001b[1;32m-> 1412\u001b[1;33m             \u001b[1;32mreturn\u001b[0m \u001b[0mfunc\u001b[0m\u001b[1;33m(\u001b[0m\u001b[0max\u001b[0m\u001b[1;33m,\u001b[0m \u001b[1;33m*\u001b[0m\u001b[0mmap\u001b[0m\u001b[1;33m(\u001b[0m\u001b[0msanitize_sequence\u001b[0m\u001b[1;33m,\u001b[0m \u001b[0margs\u001b[0m\u001b[1;33m)\u001b[0m\u001b[1;33m,\u001b[0m \u001b[1;33m**\u001b[0m\u001b[0mkwargs\u001b[0m\u001b[1;33m)\u001b[0m\u001b[1;33m\u001b[0m\u001b[1;33m\u001b[0m\u001b[0m\n\u001b[0m\u001b[0;32m   1413\u001b[0m \u001b[1;33m\u001b[0m\u001b[0m\n\u001b[0;32m   1414\u001b[0m         \u001b[0mbound\u001b[0m \u001b[1;33m=\u001b[0m \u001b[0mnew_sig\u001b[0m\u001b[1;33m.\u001b[0m\u001b[0mbind\u001b[0m\u001b[1;33m(\u001b[0m\u001b[0max\u001b[0m\u001b[1;33m,\u001b[0m \u001b[1;33m*\u001b[0m\u001b[0margs\u001b[0m\u001b[1;33m,\u001b[0m \u001b[1;33m**\u001b[0m\u001b[0mkwargs\u001b[0m\u001b[1;33m)\u001b[0m\u001b[1;33m\u001b[0m\u001b[1;33m\u001b[0m\u001b[0m\n",
      "\u001b[1;32mc:\\Users\\djd14\\AppData\\Local\\Programs\\Python\\Python310\\lib\\site-packages\\matplotlib\\axes\\_axes.py\u001b[0m in \u001b[0;36mscatter\u001b[1;34m(self, x, y, s, c, marker, cmap, norm, vmin, vmax, alpha, linewidths, edgecolors, plotnonfinite, **kwargs)\u001b[0m\n\u001b[0;32m   4367\u001b[0m         \u001b[0my\u001b[0m \u001b[1;33m=\u001b[0m \u001b[0mnp\u001b[0m\u001b[1;33m.\u001b[0m\u001b[0mma\u001b[0m\u001b[1;33m.\u001b[0m\u001b[0mravel\u001b[0m\u001b[1;33m(\u001b[0m\u001b[0my\u001b[0m\u001b[1;33m)\u001b[0m\u001b[1;33m\u001b[0m\u001b[1;33m\u001b[0m\u001b[0m\n\u001b[0;32m   4368\u001b[0m         \u001b[1;32mif\u001b[0m \u001b[0mx\u001b[0m\u001b[1;33m.\u001b[0m\u001b[0msize\u001b[0m \u001b[1;33m!=\u001b[0m \u001b[0my\u001b[0m\u001b[1;33m.\u001b[0m\u001b[0msize\u001b[0m\u001b[1;33m:\u001b[0m\u001b[1;33m\u001b[0m\u001b[1;33m\u001b[0m\u001b[0m\n\u001b[1;32m-> 4369\u001b[1;33m             \u001b[1;32mraise\u001b[0m \u001b[0mValueError\u001b[0m\u001b[1;33m(\u001b[0m\u001b[1;34m\"x and y must be the same size\"\u001b[0m\u001b[1;33m)\u001b[0m\u001b[1;33m\u001b[0m\u001b[1;33m\u001b[0m\u001b[0m\n\u001b[0m\u001b[0;32m   4370\u001b[0m \u001b[1;33m\u001b[0m\u001b[0m\n\u001b[0;32m   4371\u001b[0m         \u001b[1;32mif\u001b[0m \u001b[0ms\u001b[0m \u001b[1;32mis\u001b[0m \u001b[1;32mNone\u001b[0m\u001b[1;33m:\u001b[0m\u001b[1;33m\u001b[0m\u001b[1;33m\u001b[0m\u001b[0m\n",
      "\u001b[1;31mValueError\u001b[0m: x and y must be the same size"
     ]
    },
    {
     "data": {
      "image/png": "[encoded data removed]",
      "text/plain": [
       "<Figure size 720x720 with 1 Axes>"
      ]
     },
     "metadata": {
      "needs_background": "light"
     },
     "output_type": "display_data"
    }
   ],
   "source": [
    "plt.figure(figsize = (10, 10))\n",
    "\n",
    "plt.scatter(launch_window, arrival_window, c = delta_v_data_I1_flyby)\n",
    "plt.colorbar(label = f\"$\\Delta$V\")\n",
    "plt.xlabel(\"Launch Date\"), plt.ylabel(\"Arrival Date\"), plt.title(\"Oumouamoua Rendezvous\")"
   ]
  },
  {
   "attachments": {},
   "cell_type": "markdown",
   "metadata": {},
   "source": [
    "# Question 4"
   ]
  },
  {
   "attachments": {},
   "cell_type": "markdown",
   "metadata": {},
   "source": [
    "## Maximum Velocity Values"
   ]
  },
  {
   "attachments": {},
   "cell_type": "markdown",
   "metadata": {},
   "source": [
    "## Comet 2I/Borisov Trajectory on Arrival Window"
   ]
  },
  {
   "cell_type": "code",
   "execution_count": 13,
   "metadata": {},
   "outputs": [],
   "source": [
    "r_2I, v_2I = [], []\n",
    "\n",
    "for delta_t in arrival_window-first_launch_date:\n",
    "    r, v = propogate_orbit(\n",
    "    r2I, v2I, delta_t*24*3600, 1.327e11\n",
    "    )\n",
    "    r_2I.append(r)\n",
    "    v_2I.append(v)"
   ]
  },
  {
   "attachments": {},
   "cell_type": "markdown",
   "metadata": {},
   "source": [
    "# Question 5"
   ]
  },
  {
   "attachments": {},
   "cell_type": "markdown",
   "metadata": {},
   "source": [
    "Initial State Vectors to Orbital Elements"
   ]
  },
  {
   "cell_type": "code",
   "execution_count": 46,
   "metadata": {},
   "outputs": [],
   "source": [
    "def state2elem(r, v, mu):\n",
    "    mu_E = 398600\n",
    "    def h(r, v): return np.cross(r,v)\n",
    "\n",
    "    def a(r, v, mu = mu_E):\n",
    "        return (2/np.linalg.norm(r) - np.linalg.norm(v)**2/mu)**-1\n",
    "\n",
    "    def e(r, v, mu = mu_E):\n",
    "        return 1/mu*np.cross(v, h(r, v)) - r/np.linalg.norm(r)\n",
    "\n",
    "    def inclination(r, v):\n",
    "        h_vec = h(r, v)\n",
    "        return np.arccos( np.dot(h_vec, np.array([0, 0, 1]))/np.linalg.norm(h_vec) )\n",
    "\n",
    "    def nodes(r, v):\n",
    "        return np.cross( np.array([0, 0, 1]), h(r, v) )\n",
    "\n",
    "    def raan(r, v):\n",
    "        n = nodes(r, v)\n",
    "        return np.arccos( np.dot( n, np.array([1, 0, 0]) ) / np.linalg.norm(n) )\n",
    "\n",
    "    def argument_of_periapsis(r, v, mu = mu_E):\n",
    "        n = nodes(r, v)\n",
    "        return np.arccos( np.dot(n, e(r, v)) / ( np.linalg.norm(n)*np.linalg.norm(e(r, v)) ) )\n",
    "\n",
    "    def f(r, v, mu = mu_E): \n",
    "        h_mag = np.linalg.norm(h(r, v))\n",
    "        e_mag = np.linalg.norm(e(r, v, mu))\n",
    "        r_mag = np.linalg.norm(r)\n",
    "        nu = np.arccos( 1/e_mag * (h_mag**2 / (mu*r_mag) - 1) )\n",
    "        \n",
    "        if np.dot(r, v) < 0:\n",
    "            nu = 2*np.pi - nu\n",
    "        return nu\n",
    "    \n",
    "    return a(r, v, mu), np.linalg.norm(e(r, v, mu)), inclination(r, v), raan(r, v), argument_of_periapsis(r, v, mu), f(r, v)"
   ]
  },
  {
   "attachments": {},
   "cell_type": "markdown",
   "metadata": {},
   "source": [
    "# Question 6"
   ]
  },
  {
   "attachments": {},
   "cell_type": "markdown",
   "metadata": {},
   "source": [
    "How realistic are the mission scenarios"
   ]
  }
 ],
 "metadata": {
  "kernelspec": {
   "display_name": "Python 3",
   "language": "python",
   "name": "python3"
  },
  "language_info": {
   "codemirror_mode": {
    "name": "ipython",
    "version": 3
   },
   "file_extension": ".py",
   "mimetype": "text/x-python",
   "name": "python",
   "nbconvert_exporter": "python",
   "pygments_lexer": "ipython3",
   "version": "3.10.2"
  },
  "orig_nbformat": 4,
  "vscode": {
   "interpreter": {
    "hash": "26de051ba29f2982a8de78e945f0abaf191376122a1563185a90213a26c5da77"
   }
  }
 },
 "nbformat": 4,
 "nbformat_minor": 2
}
